{
 "cells": [
  {
   "cell_type": "code",
   "execution_count": 25,
   "id": "70082758-a743-4019-91cd-d12fd3b1867f",
   "metadata": {},
   "outputs": [],
   "source": [
    "import pandas as pd\n",
    "import numpy as np\n",
    "import seaborn as sns\n",
    "import matplotlib.pyplot as plt"
   ]
  },
  {
   "cell_type": "code",
   "execution_count": 26,
   "id": "cb69a9a3-874d-4d45-8b99-317b2bbfa33b",
   "metadata": {},
   "outputs": [],
   "source": [
    "df = pd.read_csv(\"financial_loan.csv\", encoding = 'latin-1')"
   ]
  },
  {
   "cell_type": "code",
   "execution_count": 27,
   "id": "596671d0-386e-476e-a79c-e8ed3975d547",
   "metadata": {},
   "outputs": [
    {
     "data": {
      "text/html": [
       "<div>\n",
       "<style scoped>\n",
       "    .dataframe tbody tr th:only-of-type {\n",
       "        vertical-align: middle;\n",
       "    }\n",
       "\n",
       "    .dataframe tbody tr th {\n",
       "        vertical-align: top;\n",
       "    }\n",
       "\n",
       "    .dataframe thead th {\n",
       "        text-align: right;\n",
       "    }\n",
       "</style>\n",
       "<table border=\"1\" class=\"dataframe\">\n",
       "  <thead>\n",
       "    <tr style=\"text-align: right;\">\n",
       "      <th></th>\n",
       "      <th>id</th>\n",
       "      <th>address_state</th>\n",
       "      <th>application_type</th>\n",
       "      <th>emp_length</th>\n",
       "      <th>emp_title</th>\n",
       "      <th>grade</th>\n",
       "      <th>home_ownership</th>\n",
       "      <th>issue_date</th>\n",
       "      <th>last_credit_pull_date</th>\n",
       "      <th>last_payment_date</th>\n",
       "      <th>...</th>\n",
       "      <th>sub_grade</th>\n",
       "      <th>term</th>\n",
       "      <th>verification_status</th>\n",
       "      <th>annual_income</th>\n",
       "      <th>dti</th>\n",
       "      <th>installment</th>\n",
       "      <th>int_rate</th>\n",
       "      <th>loan_amount</th>\n",
       "      <th>total_acc</th>\n",
       "      <th>total_payment</th>\n",
       "    </tr>\n",
       "  </thead>\n",
       "  <tbody>\n",
       "    <tr>\n",
       "      <th>0</th>\n",
       "      <td>1077430</td>\n",
       "      <td>GA</td>\n",
       "      <td>INDIVIDUAL</td>\n",
       "      <td>&lt; 1 year</td>\n",
       "      <td>Ryder</td>\n",
       "      <td>C</td>\n",
       "      <td>RENT</td>\n",
       "      <td>11-02-2021</td>\n",
       "      <td>13-09-2021</td>\n",
       "      <td>13-04-2021</td>\n",
       "      <td>...</td>\n",
       "      <td>C4</td>\n",
       "      <td>60 months</td>\n",
       "      <td>Source Verified</td>\n",
       "      <td>30000.0</td>\n",
       "      <td>0.0100</td>\n",
       "      <td>59.83</td>\n",
       "      <td>0.1527</td>\n",
       "      <td>2500</td>\n",
       "      <td>4</td>\n",
       "      <td>1009</td>\n",
       "    </tr>\n",
       "    <tr>\n",
       "      <th>1</th>\n",
       "      <td>1072053</td>\n",
       "      <td>CA</td>\n",
       "      <td>INDIVIDUAL</td>\n",
       "      <td>9 years</td>\n",
       "      <td>MKC Accounting</td>\n",
       "      <td>E</td>\n",
       "      <td>RENT</td>\n",
       "      <td>01-01-2021</td>\n",
       "      <td>14-12-2021</td>\n",
       "      <td>15-01-2021</td>\n",
       "      <td>...</td>\n",
       "      <td>E1</td>\n",
       "      <td>36 months</td>\n",
       "      <td>Source Verified</td>\n",
       "      <td>48000.0</td>\n",
       "      <td>0.0535</td>\n",
       "      <td>109.43</td>\n",
       "      <td>0.1864</td>\n",
       "      <td>3000</td>\n",
       "      <td>4</td>\n",
       "      <td>3939</td>\n",
       "    </tr>\n",
       "    <tr>\n",
       "      <th>2</th>\n",
       "      <td>1069243</td>\n",
       "      <td>CA</td>\n",
       "      <td>INDIVIDUAL</td>\n",
       "      <td>4 years</td>\n",
       "      <td>Chemat Technology Inc</td>\n",
       "      <td>C</td>\n",
       "      <td>RENT</td>\n",
       "      <td>05-01-2021</td>\n",
       "      <td>12-12-2021</td>\n",
       "      <td>09-01-2021</td>\n",
       "      <td>...</td>\n",
       "      <td>C5</td>\n",
       "      <td>36 months</td>\n",
       "      <td>Not Verified</td>\n",
       "      <td>50000.0</td>\n",
       "      <td>0.2088</td>\n",
       "      <td>421.65</td>\n",
       "      <td>0.1596</td>\n",
       "      <td>12000</td>\n",
       "      <td>11</td>\n",
       "      <td>3522</td>\n",
       "    </tr>\n",
       "    <tr>\n",
       "      <th>3</th>\n",
       "      <td>1041756</td>\n",
       "      <td>TX</td>\n",
       "      <td>INDIVIDUAL</td>\n",
       "      <td>&lt; 1 year</td>\n",
       "      <td>barnes distribution</td>\n",
       "      <td>B</td>\n",
       "      <td>MORTGAGE</td>\n",
       "      <td>25-02-2021</td>\n",
       "      <td>12-12-2021</td>\n",
       "      <td>12-03-2021</td>\n",
       "      <td>...</td>\n",
       "      <td>B2</td>\n",
       "      <td>60 months</td>\n",
       "      <td>Source Verified</td>\n",
       "      <td>42000.0</td>\n",
       "      <td>0.0540</td>\n",
       "      <td>97.06</td>\n",
       "      <td>0.1065</td>\n",
       "      <td>4500</td>\n",
       "      <td>9</td>\n",
       "      <td>4911</td>\n",
       "    </tr>\n",
       "    <tr>\n",
       "      <th>4</th>\n",
       "      <td>1068350</td>\n",
       "      <td>IL</td>\n",
       "      <td>INDIVIDUAL</td>\n",
       "      <td>10+ years</td>\n",
       "      <td>J&amp;J Steel Inc</td>\n",
       "      <td>A</td>\n",
       "      <td>MORTGAGE</td>\n",
       "      <td>01-01-2021</td>\n",
       "      <td>14-12-2021</td>\n",
       "      <td>15-01-2021</td>\n",
       "      <td>...</td>\n",
       "      <td>A1</td>\n",
       "      <td>36 months</td>\n",
       "      <td>Verified</td>\n",
       "      <td>83000.0</td>\n",
       "      <td>0.0231</td>\n",
       "      <td>106.53</td>\n",
       "      <td>0.0603</td>\n",
       "      <td>3500</td>\n",
       "      <td>28</td>\n",
       "      <td>3835</td>\n",
       "    </tr>\n",
       "    <tr>\n",
       "      <th>...</th>\n",
       "      <td>...</td>\n",
       "      <td>...</td>\n",
       "      <td>...</td>\n",
       "      <td>...</td>\n",
       "      <td>...</td>\n",
       "      <td>...</td>\n",
       "      <td>...</td>\n",
       "      <td>...</td>\n",
       "      <td>...</td>\n",
       "      <td>...</td>\n",
       "      <td>...</td>\n",
       "      <td>...</td>\n",
       "      <td>...</td>\n",
       "      <td>...</td>\n",
       "      <td>...</td>\n",
       "      <td>...</td>\n",
       "      <td>...</td>\n",
       "      <td>...</td>\n",
       "      <td>...</td>\n",
       "      <td>...</td>\n",
       "      <td>...</td>\n",
       "    </tr>\n",
       "    <tr>\n",
       "      <th>38571</th>\n",
       "      <td>803452</td>\n",
       "      <td>NJ</td>\n",
       "      <td>INDIVIDUAL</td>\n",
       "      <td>&lt; 1 year</td>\n",
       "      <td>Joseph M Sanzari Company</td>\n",
       "      <td>C</td>\n",
       "      <td>MORTGAGE</td>\n",
       "      <td>11-07-2021</td>\n",
       "      <td>16-05-2021</td>\n",
       "      <td>16-05-2021</td>\n",
       "      <td>...</td>\n",
       "      <td>C1</td>\n",
       "      <td>60 months</td>\n",
       "      <td>Verified</td>\n",
       "      <td>100000.0</td>\n",
       "      <td>0.1986</td>\n",
       "      <td>551.64</td>\n",
       "      <td>0.1299</td>\n",
       "      <td>24250</td>\n",
       "      <td>33</td>\n",
       "      <td>31946</td>\n",
       "    </tr>\n",
       "    <tr>\n",
       "      <th>38572</th>\n",
       "      <td>970377</td>\n",
       "      <td>NY</td>\n",
       "      <td>INDIVIDUAL</td>\n",
       "      <td>8 years</td>\n",
       "      <td>Swat Fame</td>\n",
       "      <td>C</td>\n",
       "      <td>RENT</td>\n",
       "      <td>11-10-2021</td>\n",
       "      <td>16-04-2021</td>\n",
       "      <td>16-05-2021</td>\n",
       "      <td>...</td>\n",
       "      <td>C1</td>\n",
       "      <td>60 months</td>\n",
       "      <td>Verified</td>\n",
       "      <td>50000.0</td>\n",
       "      <td>0.0458</td>\n",
       "      <td>579.72</td>\n",
       "      <td>0.1349</td>\n",
       "      <td>25200</td>\n",
       "      <td>18</td>\n",
       "      <td>31870</td>\n",
       "    </tr>\n",
       "    <tr>\n",
       "      <th>38573</th>\n",
       "      <td>875376</td>\n",
       "      <td>CA</td>\n",
       "      <td>INDIVIDUAL</td>\n",
       "      <td>5 years</td>\n",
       "      <td>Anaheim Regional Medical Center</td>\n",
       "      <td>D</td>\n",
       "      <td>RENT</td>\n",
       "      <td>11-09-2021</td>\n",
       "      <td>16-05-2021</td>\n",
       "      <td>16-05-2021</td>\n",
       "      <td>...</td>\n",
       "      <td>D5</td>\n",
       "      <td>60 months</td>\n",
       "      <td>Verified</td>\n",
       "      <td>65000.0</td>\n",
       "      <td>0.1734</td>\n",
       "      <td>627.93</td>\n",
       "      <td>0.1749</td>\n",
       "      <td>25000</td>\n",
       "      <td>20</td>\n",
       "      <td>35721</td>\n",
       "    </tr>\n",
       "    <tr>\n",
       "      <th>38574</th>\n",
       "      <td>972997</td>\n",
       "      <td>NY</td>\n",
       "      <td>INDIVIDUAL</td>\n",
       "      <td>5 years</td>\n",
       "      <td>Brooklyn Radiology</td>\n",
       "      <td>D</td>\n",
       "      <td>RENT</td>\n",
       "      <td>11-10-2021</td>\n",
       "      <td>16-05-2021</td>\n",
       "      <td>16-05-2021</td>\n",
       "      <td>...</td>\n",
       "      <td>D5</td>\n",
       "      <td>60 months</td>\n",
       "      <td>Verified</td>\n",
       "      <td>368000.0</td>\n",
       "      <td>0.0009</td>\n",
       "      <td>612.72</td>\n",
       "      <td>0.1825</td>\n",
       "      <td>24000</td>\n",
       "      <td>9</td>\n",
       "      <td>33677</td>\n",
       "    </tr>\n",
       "    <tr>\n",
       "      <th>38575</th>\n",
       "      <td>682952</td>\n",
       "      <td>NY</td>\n",
       "      <td>INDIVIDUAL</td>\n",
       "      <td>4 years</td>\n",
       "      <td>Allen Edmonds</td>\n",
       "      <td>F</td>\n",
       "      <td>RENT</td>\n",
       "      <td>11-07-2021</td>\n",
       "      <td>16-05-2021</td>\n",
       "      <td>16-05-2021</td>\n",
       "      <td>...</td>\n",
       "      <td>F3</td>\n",
       "      <td>60 months</td>\n",
       "      <td>Verified</td>\n",
       "      <td>80000.0</td>\n",
       "      <td>0.0600</td>\n",
       "      <td>486.86</td>\n",
       "      <td>0.2099</td>\n",
       "      <td>18000</td>\n",
       "      <td>7</td>\n",
       "      <td>27679</td>\n",
       "    </tr>\n",
       "  </tbody>\n",
       "</table>\n",
       "<p>38576 rows × 24 columns</p>\n",
       "</div>"
      ],
      "text/plain": [
       "            id address_state application_type emp_length  \\\n",
       "0      1077430            GA       INDIVIDUAL   < 1 year   \n",
       "1      1072053            CA       INDIVIDUAL    9 years   \n",
       "2      1069243            CA       INDIVIDUAL    4 years   \n",
       "3      1041756            TX       INDIVIDUAL   < 1 year   \n",
       "4      1068350            IL       INDIVIDUAL  10+ years   \n",
       "...        ...           ...              ...        ...   \n",
       "38571   803452            NJ       INDIVIDUAL   < 1 year   \n",
       "38572   970377            NY       INDIVIDUAL    8 years   \n",
       "38573   875376            CA       INDIVIDUAL    5 years   \n",
       "38574   972997            NY       INDIVIDUAL    5 years   \n",
       "38575   682952            NY       INDIVIDUAL    4 years   \n",
       "\n",
       "                             emp_title grade home_ownership  issue_date  \\\n",
       "0                                Ryder     C           RENT  11-02-2021   \n",
       "1                       MKC Accounting     E           RENT  01-01-2021   \n",
       "2                Chemat Technology Inc     C           RENT  05-01-2021   \n",
       "3                  barnes distribution     B       MORTGAGE  25-02-2021   \n",
       "4                        J&J Steel Inc     A       MORTGAGE  01-01-2021   \n",
       "...                                ...   ...            ...         ...   \n",
       "38571         Joseph M Sanzari Company     C       MORTGAGE  11-07-2021   \n",
       "38572                        Swat Fame     C           RENT  11-10-2021   \n",
       "38573  Anaheim Regional Medical Center     D           RENT  11-09-2021   \n",
       "38574               Brooklyn Radiology     D           RENT  11-10-2021   \n",
       "38575                    Allen Edmonds     F           RENT  11-07-2021   \n",
       "\n",
       "      last_credit_pull_date last_payment_date  ... sub_grade        term  \\\n",
       "0                13-09-2021        13-04-2021  ...        C4   60 months   \n",
       "1                14-12-2021        15-01-2021  ...        E1   36 months   \n",
       "2                12-12-2021        09-01-2021  ...        C5   36 months   \n",
       "3                12-12-2021        12-03-2021  ...        B2   60 months   \n",
       "4                14-12-2021        15-01-2021  ...        A1   36 months   \n",
       "...                     ...               ...  ...       ...         ...   \n",
       "38571            16-05-2021        16-05-2021  ...        C1   60 months   \n",
       "38572            16-04-2021        16-05-2021  ...        C1   60 months   \n",
       "38573            16-05-2021        16-05-2021  ...        D5   60 months   \n",
       "38574            16-05-2021        16-05-2021  ...        D5   60 months   \n",
       "38575            16-05-2021        16-05-2021  ...        F3   60 months   \n",
       "\n",
       "       verification_status annual_income     dti installment int_rate  \\\n",
       "0          Source Verified       30000.0  0.0100       59.83   0.1527   \n",
       "1          Source Verified       48000.0  0.0535      109.43   0.1864   \n",
       "2             Not Verified       50000.0  0.2088      421.65   0.1596   \n",
       "3          Source Verified       42000.0  0.0540       97.06   0.1065   \n",
       "4                 Verified       83000.0  0.0231      106.53   0.0603   \n",
       "...                    ...           ...     ...         ...      ...   \n",
       "38571             Verified      100000.0  0.1986      551.64   0.1299   \n",
       "38572             Verified       50000.0  0.0458      579.72   0.1349   \n",
       "38573             Verified       65000.0  0.1734      627.93   0.1749   \n",
       "38574             Verified      368000.0  0.0009      612.72   0.1825   \n",
       "38575             Verified       80000.0  0.0600      486.86   0.2099   \n",
       "\n",
       "       loan_amount  total_acc  total_payment  \n",
       "0             2500          4           1009  \n",
       "1             3000          4           3939  \n",
       "2            12000         11           3522  \n",
       "3             4500          9           4911  \n",
       "4             3500         28           3835  \n",
       "...            ...        ...            ...  \n",
       "38571        24250         33          31946  \n",
       "38572        25200         18          31870  \n",
       "38573        25000         20          35721  \n",
       "38574        24000          9          33677  \n",
       "38575        18000          7          27679  \n",
       "\n",
       "[38576 rows x 24 columns]"
      ]
     },
     "execution_count": 27,
     "metadata": {},
     "output_type": "execute_result"
    }
   ],
   "source": [
    "df"
   ]
  },
  {
   "cell_type": "code",
   "execution_count": 28,
   "id": "fb60e4ab-19b1-46d3-8744-1b5ea1a0352a",
   "metadata": {},
   "outputs": [
    {
     "data": {
      "text/plain": [
       "id                          0\n",
       "address_state               0\n",
       "application_type            0\n",
       "emp_length                  0\n",
       "emp_title                1438\n",
       "grade                       0\n",
       "home_ownership              0\n",
       "issue_date                  0\n",
       "last_credit_pull_date       0\n",
       "last_payment_date           0\n",
       "loan_status                 0\n",
       "next_payment_date           0\n",
       "member_id                   0\n",
       "purpose                     0\n",
       "sub_grade                   0\n",
       "term                        0\n",
       "verification_status         0\n",
       "annual_income               0\n",
       "dti                         0\n",
       "installment                 0\n",
       "int_rate                    0\n",
       "loan_amount                 0\n",
       "total_acc                   0\n",
       "total_payment               0\n",
       "dtype: int64"
      ]
     },
     "execution_count": 28,
     "metadata": {},
     "output_type": "execute_result"
    }
   ],
   "source": [
    "df.isnull().sum()"
   ]
  },
  {
   "cell_type": "code",
   "execution_count": 29,
   "id": "e07010e6-ce66-4b69-8185-cdfed8e62773",
   "metadata": {},
   "outputs": [],
   "source": [
    "df['emp_title'].fillna('Unknown', inplace=True)"
   ]
  },
  {
   "cell_type": "code",
   "execution_count": 30,
   "id": "11fb9c9e-b84b-4c0e-88c9-adf2d0e34e0c",
   "metadata": {},
   "outputs": [
    {
     "data": {
      "text/plain": [
       "id                       0\n",
       "address_state            0\n",
       "application_type         0\n",
       "emp_length               0\n",
       "emp_title                0\n",
       "grade                    0\n",
       "home_ownership           0\n",
       "issue_date               0\n",
       "last_credit_pull_date    0\n",
       "last_payment_date        0\n",
       "loan_status              0\n",
       "next_payment_date        0\n",
       "member_id                0\n",
       "purpose                  0\n",
       "sub_grade                0\n",
       "term                     0\n",
       "verification_status      0\n",
       "annual_income            0\n",
       "dti                      0\n",
       "installment              0\n",
       "int_rate                 0\n",
       "loan_amount              0\n",
       "total_acc                0\n",
       "total_payment            0\n",
       "dtype: int64"
      ]
     },
     "execution_count": 30,
     "metadata": {},
     "output_type": "execute_result"
    }
   ],
   "source": [
    "df.isnull().sum()"
   ]
  },
  {
   "cell_type": "code",
   "execution_count": 31,
   "id": "2472de34-d060-492d-836d-462f34a34ff3",
   "metadata": {},
   "outputs": [
    {
     "data": {
      "text/plain": [
       "Index(['id', 'address_state', 'application_type', 'emp_length', 'emp_title',\n",
       "       'grade', 'home_ownership', 'issue_date', 'last_credit_pull_date',\n",
       "       'last_payment_date', 'loan_status', 'next_payment_date', 'member_id',\n",
       "       'purpose', 'sub_grade', 'term', 'verification_status', 'annual_income',\n",
       "       'dti', 'installment', 'int_rate', 'loan_amount', 'total_acc',\n",
       "       'total_payment'],\n",
       "      dtype='object')"
      ]
     },
     "execution_count": 31,
     "metadata": {},
     "output_type": "execute_result"
    }
   ],
   "source": [
    "df.columns"
   ]
  },
  {
   "cell_type": "code",
   "execution_count": 32,
   "id": "5c617dcb-657e-4d5e-8948-256ecce2f19b",
   "metadata": {},
   "outputs": [
    {
     "data": {
      "text/html": [
       "<div>\n",
       "<style scoped>\n",
       "    .dataframe tbody tr th:only-of-type {\n",
       "        vertical-align: middle;\n",
       "    }\n",
       "\n",
       "    .dataframe tbody tr th {\n",
       "        vertical-align: top;\n",
       "    }\n",
       "\n",
       "    .dataframe thead th {\n",
       "        text-align: right;\n",
       "    }\n",
       "</style>\n",
       "<table border=\"1\" class=\"dataframe\">\n",
       "  <thead>\n",
       "    <tr style=\"text-align: right;\">\n",
       "      <th></th>\n",
       "      <th>id</th>\n",
       "      <th>member_id</th>\n",
       "      <th>annual_income</th>\n",
       "      <th>dti</th>\n",
       "      <th>installment</th>\n",
       "      <th>int_rate</th>\n",
       "      <th>loan_amount</th>\n",
       "      <th>total_acc</th>\n",
       "      <th>total_payment</th>\n",
       "    </tr>\n",
       "  </thead>\n",
       "  <tbody>\n",
       "    <tr>\n",
       "      <th>count</th>\n",
       "      <td>3.857600e+04</td>\n",
       "      <td>3.857600e+04</td>\n",
       "      <td>3.857600e+04</td>\n",
       "      <td>38576.000000</td>\n",
       "      <td>38576.000000</td>\n",
       "      <td>38576.000000</td>\n",
       "      <td>38576.000000</td>\n",
       "      <td>38576.000000</td>\n",
       "      <td>38576.000000</td>\n",
       "    </tr>\n",
       "    <tr>\n",
       "      <th>mean</th>\n",
       "      <td>6.810371e+05</td>\n",
       "      <td>8.476515e+05</td>\n",
       "      <td>6.964454e+04</td>\n",
       "      <td>0.133274</td>\n",
       "      <td>326.862965</td>\n",
       "      <td>0.120488</td>\n",
       "      <td>11296.066855</td>\n",
       "      <td>22.132544</td>\n",
       "      <td>12263.348533</td>\n",
       "    </tr>\n",
       "    <tr>\n",
       "      <th>std</th>\n",
       "      <td>2.113246e+05</td>\n",
       "      <td>2.668105e+05</td>\n",
       "      <td>6.429368e+04</td>\n",
       "      <td>0.066662</td>\n",
       "      <td>209.092000</td>\n",
       "      <td>0.037164</td>\n",
       "      <td>7460.746022</td>\n",
       "      <td>11.392282</td>\n",
       "      <td>9051.104777</td>\n",
       "    </tr>\n",
       "    <tr>\n",
       "      <th>min</th>\n",
       "      <td>5.473400e+04</td>\n",
       "      <td>7.069900e+04</td>\n",
       "      <td>4.000000e+03</td>\n",
       "      <td>0.000000</td>\n",
       "      <td>15.690000</td>\n",
       "      <td>0.054200</td>\n",
       "      <td>500.000000</td>\n",
       "      <td>2.000000</td>\n",
       "      <td>34.000000</td>\n",
       "    </tr>\n",
       "    <tr>\n",
       "      <th>25%</th>\n",
       "      <td>5.135170e+05</td>\n",
       "      <td>6.629788e+05</td>\n",
       "      <td>4.150000e+04</td>\n",
       "      <td>0.082100</td>\n",
       "      <td>168.450000</td>\n",
       "      <td>0.093200</td>\n",
       "      <td>5500.000000</td>\n",
       "      <td>14.000000</td>\n",
       "      <td>5633.000000</td>\n",
       "    </tr>\n",
       "    <tr>\n",
       "      <th>50%</th>\n",
       "      <td>6.627280e+05</td>\n",
       "      <td>8.473565e+05</td>\n",
       "      <td>6.000000e+04</td>\n",
       "      <td>0.134200</td>\n",
       "      <td>283.045000</td>\n",
       "      <td>0.118600</td>\n",
       "      <td>10000.000000</td>\n",
       "      <td>20.000000</td>\n",
       "      <td>10042.000000</td>\n",
       "    </tr>\n",
       "    <tr>\n",
       "      <th>75%</th>\n",
       "      <td>8.365060e+05</td>\n",
       "      <td>1.045652e+06</td>\n",
       "      <td>8.320050e+04</td>\n",
       "      <td>0.185900</td>\n",
       "      <td>434.442500</td>\n",
       "      <td>0.145900</td>\n",
       "      <td>15000.000000</td>\n",
       "      <td>29.000000</td>\n",
       "      <td>16658.000000</td>\n",
       "    </tr>\n",
       "    <tr>\n",
       "      <th>max</th>\n",
       "      <td>1.077501e+06</td>\n",
       "      <td>1.314167e+06</td>\n",
       "      <td>6.000000e+06</td>\n",
       "      <td>0.299900</td>\n",
       "      <td>1305.190000</td>\n",
       "      <td>0.245900</td>\n",
       "      <td>35000.000000</td>\n",
       "      <td>90.000000</td>\n",
       "      <td>58564.000000</td>\n",
       "    </tr>\n",
       "  </tbody>\n",
       "</table>\n",
       "</div>"
      ],
      "text/plain": [
       "                 id     member_id  annual_income           dti   installment  \\\n",
       "count  3.857600e+04  3.857600e+04   3.857600e+04  38576.000000  38576.000000   \n",
       "mean   6.810371e+05  8.476515e+05   6.964454e+04      0.133274    326.862965   \n",
       "std    2.113246e+05  2.668105e+05   6.429368e+04      0.066662    209.092000   \n",
       "min    5.473400e+04  7.069900e+04   4.000000e+03      0.000000     15.690000   \n",
       "25%    5.135170e+05  6.629788e+05   4.150000e+04      0.082100    168.450000   \n",
       "50%    6.627280e+05  8.473565e+05   6.000000e+04      0.134200    283.045000   \n",
       "75%    8.365060e+05  1.045652e+06   8.320050e+04      0.185900    434.442500   \n",
       "max    1.077501e+06  1.314167e+06   6.000000e+06      0.299900   1305.190000   \n",
       "\n",
       "           int_rate   loan_amount     total_acc  total_payment  \n",
       "count  38576.000000  38576.000000  38576.000000   38576.000000  \n",
       "mean       0.120488  11296.066855     22.132544   12263.348533  \n",
       "std        0.037164   7460.746022     11.392282    9051.104777  \n",
       "min        0.054200    500.000000      2.000000      34.000000  \n",
       "25%        0.093200   5500.000000     14.000000    5633.000000  \n",
       "50%        0.118600  10000.000000     20.000000   10042.000000  \n",
       "75%        0.145900  15000.000000     29.000000   16658.000000  \n",
       "max        0.245900  35000.000000     90.000000   58564.000000  "
      ]
     },
     "execution_count": 32,
     "metadata": {},
     "output_type": "execute_result"
    }
   ],
   "source": [
    "df.describe()"
   ]
  },
  {
   "cell_type": "markdown",
   "id": "5e7d60f9-0545-4bf4-9961-56df74275fde",
   "metadata": {},
   "source": [
    "# How many loans fall into each loan_status category?"
   ]
  },
  {
   "cell_type": "code",
   "execution_count": 33,
   "id": "1f31823d-ee37-4e99-9f9f-700424fea12e",
   "metadata": {},
   "outputs": [
    {
     "name": "stdout",
     "output_type": "stream",
     "text": [
      "loan_status\n",
      "Fully Paid     32145\n",
      "Charged Off     5333\n",
      "Current         1098\n",
      "Name: count, dtype: int64\n"
     ]
    }
   ],
   "source": [
    "loan_status_count = df['loan_status'].value_counts()\n",
    "print(loan_status_count)"
   ]
  },
  {
   "cell_type": "markdown",
   "id": "55347977-3383-4be7-adbc-86ced8752b43",
   "metadata": {},
   "source": [
    "# Which states have the highest average loan_amount?"
   ]
  },
  {
   "cell_type": "code",
   "execution_count": 34,
   "id": "976ab3d4-3e0b-46ed-b600-4a8703921409",
   "metadata": {},
   "outputs": [
    {
     "name": "stdout",
     "output_type": "stream",
     "text": [
      "address_state\n",
      "AK    13228.205128\n",
      "DC    12394.158879\n",
      "NH    11912.422360\n",
      "NJ    11886.649286\n",
      "TX    11725.469219\n",
      "CO    11657.142857\n",
      "VA    11623.745455\n",
      "MD    11598.247322\n",
      "NC    11577.832675\n",
      "CT    11555.582192\n",
      "IL    11523.704576\n",
      "MA    11489.312977\n",
      "OK    11487.116041\n",
      "AL    11456.539352\n",
      "MI    11430.510949\n",
      "GA    11424.594096\n",
      "CA    11384.410357\n",
      "NY    11369.102945\n",
      "WI    11368.721973\n",
      "UT    11306.448413\n",
      "IA    11290.000000\n",
      "WY    11275.316456\n",
      "AZ    11051.620648\n",
      "KS    11047.403846\n",
      "NV    11011.151452\n",
      "WA    11000.652174\n",
      "WV    10961.227545\n",
      "KY    10950.312500\n",
      "SC    10949.299569\n",
      "OH    10935.500842\n",
      "HI    10885.441176\n",
      "FL    10835.241616\n",
      "MO    10835.113636\n",
      "OR    10826.032110\n",
      "AR    10719.067797\n",
      "PA    10679.166667\n",
      "MN    10646.283784\n",
      "LA    10560.798122\n",
      "MT    10500.316456\n",
      "NM    10474.180328\n",
      "DE    10346.363636\n",
      "ID     9958.333333\n",
      "SD     9621.428571\n",
      "RI     9607.270408\n",
      "IN     9580.555556\n",
      "TN     9539.705882\n",
      "VT     9335.185185\n",
      "MS     7322.368421\n",
      "NE     6340.000000\n",
      "ME     3066.666667\n",
      "Name: loan_amount, dtype: float64\n"
     ]
    }
   ],
   "source": [
    "avg_loan_by_state = df.groupby('address_state')['loan_amount'].mean().sort_values(ascending=False)\n",
    "print(avg_loan_by_state)"
   ]
  },
  {
   "cell_type": "markdown",
   "id": "5da82741-9875-44ac-896b-a0864a5aa8fd",
   "metadata": {},
   "source": [
    "# Find the average annual_income for each emp_length."
   ]
  },
  {
   "cell_type": "code",
   "execution_count": 35,
   "id": "03f307d6-dbae-4ea1-a85c-d0800270d44c",
   "metadata": {},
   "outputs": [
    {
     "name": "stdout",
     "output_type": "stream",
     "text": [
      "emp_length\n",
      "1 year       62739.250418\n",
      "10+ years    81713.054510\n",
      "2 years      63296.395644\n",
      "3 years      66838.137970\n",
      "4 years      66618.899924\n",
      "5 years      68289.647427\n",
      "6 years      68195.832527\n",
      "7 years      69165.711558\n",
      "8 years      74619.237764\n",
      "9 years      74505.204733\n",
      "< 1 year     60896.885808\n",
      "Name: annual_income, dtype: float64\n"
     ]
    }
   ],
   "source": [
    "avg_income_by_emp_length = df.groupby('emp_length')['annual_income'].mean()\n",
    "print(avg_income_by_emp_length)"
   ]
  },
  {
   "cell_type": "markdown",
   "id": "7aa8d90b-c37e-45b6-986e-857bb4e2e2d4",
   "metadata": {},
   "source": [
    "# What is the average interest_rate for each loan sub-grade?"
   ]
  },
  {
   "cell_type": "code",
   "execution_count": 36,
   "id": "7e5a75de-cebf-4c69-867d-01cf78a8c22a",
   "metadata": {},
   "outputs": [
    {
     "name": "stdout",
     "output_type": "stream",
     "text": [
      "sub_grade\n",
      "A1    0.058137\n",
      "A2    0.063863\n",
      "A3    0.071728\n",
      "A4    0.076643\n",
      "A5    0.082733\n",
      "B1    0.100120\n",
      "B2    0.104936\n",
      "B3    0.109976\n",
      "B4    0.114090\n",
      "B5    0.117866\n",
      "C1    0.128522\n",
      "C2    0.133496\n",
      "C3    0.136511\n",
      "C4    0.140427\n",
      "C5    0.144933\n",
      "D1    0.148384\n",
      "D2    0.153489\n",
      "D3    0.157645\n",
      "D4    0.161519\n",
      "D5    0.166341\n",
      "E1    0.170083\n",
      "E2    0.174320\n",
      "E3    0.177709\n",
      "E4    0.182649\n",
      "E5    0.187087\n",
      "F1    0.192010\n",
      "F2    0.193907\n",
      "F3    0.200280\n",
      "F4    0.203407\n",
      "F5    0.207300\n",
      "G1    0.210914\n",
      "G2    0.210660\n",
      "G3    0.216160\n",
      "G4    0.219741\n",
      "G5    0.218967\n",
      "Name: int_rate, dtype: float64\n"
     ]
    }
   ],
   "source": [
    "avg_interest_by_subgrade = df.groupby('sub_grade')['int_rate'].mean()\n",
    "print(avg_interest_by_subgrade)"
   ]
  },
  {
   "cell_type": "markdown",
   "id": "6542b44d-e32c-4394-9f93-ff260c5aae24",
   "metadata": {},
   "source": [
    "# Count the loans issued for each purpose."
   ]
  },
  {
   "cell_type": "code",
   "execution_count": 37,
   "id": "83749552-8637-4f26-b20a-14b61fbd8375",
   "metadata": {},
   "outputs": [
    {
     "name": "stdout",
     "output_type": "stream",
     "text": [
      "purpose\n",
      "Debt consolidation    18214\n",
      "credit card            4998\n",
      "other                  3824\n",
      "home improvement       2876\n",
      "major purchase         2110\n",
      "small business         1776\n",
      "car                    1497\n",
      "wedding                 928\n",
      "medical                 667\n",
      "moving                  559\n",
      "house                   366\n",
      "vacation                352\n",
      "educational             315\n",
      "renewable_energy         94\n",
      "Name: count, dtype: int64\n"
     ]
    }
   ],
   "source": [
    "purpose_count = df['purpose'].value_counts()\n",
    "print(purpose_count)"
   ]
  },
  {
   "cell_type": "markdown",
   "id": "1a150e38-e3e0-4499-86e1-5087b007c91d",
   "metadata": {},
   "source": [
    "# Find the average dti for each purpose."
   ]
  },
  {
   "cell_type": "code",
   "execution_count": 38,
   "id": "c6f2b0a2-8dba-4124-bf1d-803b7605e0c3",
   "metadata": {},
   "outputs": [
    {
     "name": "stdout",
     "output_type": "stream",
     "text": [
      "purpose\n",
      "Debt consolidation    0.144845\n",
      "car                   0.111804\n",
      "credit card           0.146277\n",
      "educational           0.113078\n",
      "home improvement      0.111078\n",
      "house                 0.106601\n",
      "major purchase        0.108272\n",
      "medical               0.122154\n",
      "moving                0.116835\n",
      "other                 0.122875\n",
      "renewable_energy      0.118181\n",
      "small business        0.111400\n",
      "vacation              0.120951\n",
      "wedding               0.122616\n",
      "Name: dti, dtype: float64\n"
     ]
    }
   ],
   "source": [
    "avg_dti_by_purpose = df.groupby('purpose')['dti'].mean()\n",
    "print(avg_dti_by_purpose)"
   ]
  },
  {
   "cell_type": "markdown",
   "id": "afc0e4bf-c93f-434c-81a9-76107feb79b1",
   "metadata": {},
   "source": [
    "# Loan Status Distribution"
   ]
  },
  {
   "cell_type": "code",
   "execution_count": 40,
   "id": "525f58dd-9a12-42b6-9930-df85e31ece6c",
   "metadata": {},
   "outputs": [
    {
     "data": {
      "image/png": "[encoded data removed]",
      "text/plain": [
       "<Figure size 800x500 with 1 Axes>"
      ]
     },
     "metadata": {},
     "output_type": "display_data"
    }
   ],
   "source": [
    "plt.figure(figsize=(8, 5))\n",
    "sns.countplot(data=df, x='loan_status', palette='viridis')\n",
    "plt.title('Loan Status Distribution', fontsize=16)\n",
    "plt.xlabel('Loan Status', fontsize=12)\n",
    "plt.ylabel('Count', fontsize=12)\n",
    "plt.xticks(rotation=45)\n",
    "plt.show()"
   ]
  },
  {
   "cell_type": "markdown",
   "id": "375729bb-f6e1-46ef-b147-28b97c53ab7f",
   "metadata": {},
   "source": [
    "# Average Loan Amount by State"
   ]
  },
  {
   "cell_type": "code",
   "execution_count": 41,
   "id": "3e489a89-c714-465b-b1af-ad18a6d5d762",
   "metadata": {},
   "outputs": [
    {
     "data": {
      "image/png": "[encoded data removed]",
      "text/plain": [
       "<Figure size 800x500 with 1 Axes>"
      ]
     },
     "metadata": {},
     "output_type": "display_data"
    }
   ],
   "source": [
    "avg_loan_by_state = df.groupby('address_state')['loan_amount'].mean().sort_values(ascending=False).head(5)\n",
    "plt.figure(figsize=(8, 5))\n",
    "avg_loan_by_state.plot(kind='bar', color='teal')\n",
    "plt.title('Top 5 States by Average Loan Amount', fontsize=16)\n",
    "plt.xlabel('State', fontsize=12)\n",
    "plt.ylabel('Average Loan Amount', fontsize=12)\n",
    "plt.show()"
   ]
  },
  {
   "cell_type": "markdown",
   "id": "ee6f8b03-507c-4bf8-b3ab-b694883a1d41",
   "metadata": {},
   "source": [
    "# Loan Purpose Distribution"
   ]
  },
  {
   "cell_type": "code",
   "execution_count": 42,
   "id": "f1cce1d0-9586-4189-ba6a-39e9301e7a32",
   "metadata": {},
   "outputs": [
    {
     "data": {
      "image/png": "[encoded data removed]",
      "text/plain": [
       "<Figure size 1000x500 with 1 Axes>"
      ]
     },
     "metadata": {},
     "output_type": "display_data"
    }
   ],
   "source": [
    "loan_purpose_count = df['purpose'].value_counts()\n",
    "plt.figure(figsize=(10, 5))\n",
    "sns.barplot(x=loan_purpose_count.index, y=loan_purpose_count.values, palette='muted')\n",
    "plt.title('Loan Purpose Distribution', fontsize=16)\n",
    "plt.xlabel('Purpose', fontsize=12)\n",
    "plt.ylabel('Count', fontsize=12)\n",
    "plt.xticks(rotation=45)\n",
    "plt.show()"
   ]
  },
  {
   "cell_type": "markdown",
   "id": "3e1dab3a-db50-45fe-b8c5-a0c67e0fb592",
   "metadata": {},
   "source": [
    "# Interest Rate by Sub-Grade"
   ]
  },
  {
   "cell_type": "code",
   "execution_count": 45,
   "id": "65fb2864-9edb-41fe-a526-8f289ad4efe7",
   "metadata": {},
   "outputs": [
    {
     "name": "stderr",
     "output_type": "stream",
     "text": [
      "/opt/conda/envs/anaconda-2024.02-py310/lib/python3.10/site-packages/seaborn/_oldcore.py:1119: FutureWarning: use_inf_as_na option is deprecated and will be removed in a future version. Convert inf values to NaN before operating instead.\n",
      "  with pd.option_context('mode.use_inf_as_na', True):\n",
      "/opt/conda/envs/anaconda-2024.02-py310/lib/python3.10/site-packages/seaborn/_oldcore.py:1119: FutureWarning: use_inf_as_na option is deprecated and will be removed in a future version. Convert inf values to NaN before operating instead.\n",
      "  with pd.option_context('mode.use_inf_as_na', True):\n"
     ]
    },
    {
     "data": {
      "image/png": "[encoded data removed]",
      "text/plain": [
       "<Figure size 1200x600 with 1 Axes>"
      ]
     },
     "metadata": {},
     "output_type": "display_data"
    }
   ],
   "source": [
    "avg_interest_by_subgrade = df.groupby('sub_grade')['int_rate'].mean()\n",
    "plt.figure(figsize=(12, 6))\n",
    "sns.lineplot(x=avg_interest_by_subgrade.index, y=avg_interest_by_subgrade.values, marker='o')\n",
    "plt.title('Average Interest Rate by Sub-Grade', fontsize=16)\n",
    "plt.xlabel('Sub-Grade', fontsize=12)\n",
    "plt.ylabel('Average Interest Rate (%)', fontsize=12)\n",
    "plt.grid()\n",
    "plt.show()"
   ]
  },
  {
   "cell_type": "code",
   "execution_count": null,
   "id": "2fc72451-83dc-4e35-afa2-baf4681f5bc5",
   "metadata": {},
   "outputs": [],
   "source": [
    "df.to_csv('bank_loan_new.csv', index=False)"
   ]
  }
 ],
 "metadata": {
  "kernelspec": {
   "display_name": "anaconda-2024.02-py310",
   "language": "python",
   "name": "conda-env-anaconda-2024.02-py310-py"
  },
  "language_info": {
   "codemirror_mode": {
    "name": "ipython",
    "version": 3
   },
   "file_extension": ".py",
   "mimetype": "text/x-python",
   "name": "python",
   "nbconvert_exporter": "python",
   "pygments_lexer": "ipython3",
   "version": "3.10.14"
  }
 },
 "nbformat": 4,
 "nbformat_minor": 5
}
